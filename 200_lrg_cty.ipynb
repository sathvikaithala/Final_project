{
 "cells": [
  {
   "cell_type": "code",
   "execution_count": 2,
   "metadata": {},
   "outputs": [
    {
     "data": {
      "text/html": [
       "<div>\n",
       "<style scoped>\n",
       "    .dataframe tbody tr th:only-of-type {\n",
       "        vertical-align: middle;\n",
       "    }\n",
       "\n",
       "    .dataframe tbody tr th {\n",
       "        vertical-align: top;\n",
       "    }\n",
       "\n",
       "    .dataframe thead th {\n",
       "        text-align: right;\n",
       "    }\n",
       "</style>\n",
       "<table border=\"1\" class=\"dataframe\">\n",
       "  <thead>\n",
       "    <tr style=\"text-align: right;\">\n",
       "      <th></th>\n",
       "      <th>rank</th>\n",
       "      <th>usps</th>\n",
       "      <th>pop2020</th>\n",
       "      <th>pop2010</th>\n",
       "      <th>change</th>\n",
       "      <th>density</th>\n",
       "      <th>aland</th>\n",
       "    </tr>\n",
       "  </thead>\n",
       "  <tbody>\n",
       "    <tr>\n",
       "      <th>0</th>\n",
       "      <td>1</td>\n",
       "      <td>NY</td>\n",
       "      <td>8323340</td>\n",
       "      <td>8190360</td>\n",
       "      <td>0.0162</td>\n",
       "      <td>10698.6142</td>\n",
       "      <td>777983000</td>\n",
       "    </tr>\n",
       "    <tr>\n",
       "      <th>1</th>\n",
       "      <td>2</td>\n",
       "      <td>CA</td>\n",
       "      <td>4015940</td>\n",
       "      <td>3795370</td>\n",
       "      <td>0.0581</td>\n",
       "      <td>3306.4162</td>\n",
       "      <td>1214590000</td>\n",
       "    </tr>\n",
       "    <tr>\n",
       "      <th>2</th>\n",
       "      <td>3</td>\n",
       "      <td>IL</td>\n",
       "      <td>2694240</td>\n",
       "      <td>2697530</td>\n",
       "      <td>-0.0012</td>\n",
       "      <td>4575.1780</td>\n",
       "      <td>588882000</td>\n",
       "    </tr>\n",
       "    <tr>\n",
       "      <th>3</th>\n",
       "      <td>4</td>\n",
       "      <td>TX</td>\n",
       "      <td>2340890</td>\n",
       "      <td>2098450</td>\n",
       "      <td>0.1155</td>\n",
       "      <td>1411.7991</td>\n",
       "      <td>1658090000</td>\n",
       "    </tr>\n",
       "    <tr>\n",
       "      <th>4</th>\n",
       "      <td>5</td>\n",
       "      <td>AZ</td>\n",
       "      <td>1703080</td>\n",
       "      <td>1449300</td>\n",
       "      <td>0.1751</td>\n",
       "      <td>1270.2253</td>\n",
       "      <td>1340770000</td>\n",
       "    </tr>\n",
       "    <tr>\n",
       "      <th>...</th>\n",
       "      <td>...</td>\n",
       "      <td>...</td>\n",
       "      <td>...</td>\n",
       "      <td>...</td>\n",
       "      <td>...</td>\n",
       "      <td>...</td>\n",
       "      <td>...</td>\n",
       "    </tr>\n",
       "    <tr>\n",
       "      <th>195</th>\n",
       "      <td>196</td>\n",
       "      <td>FL</td>\n",
       "      <td>143219</td>\n",
       "      <td>122299</td>\n",
       "      <td>0.1711</td>\n",
       "      <td>1916.5245</td>\n",
       "      <td>74728500</td>\n",
       "    </tr>\n",
       "    <tr>\n",
       "      <th>196</th>\n",
       "      <td>197</td>\n",
       "      <td>CT</td>\n",
       "      <td>143010</td>\n",
       "      <td>144858</td>\n",
       "      <td>-0.0128</td>\n",
       "      <td>3437.1868</td>\n",
       "      <td>41606700</td>\n",
       "    </tr>\n",
       "    <tr>\n",
       "      <th>197</th>\n",
       "      <td>198</td>\n",
       "      <td>KS</td>\n",
       "      <td>142841</td>\n",
       "      <td>126249</td>\n",
       "      <td>0.1314</td>\n",
       "      <td>894.7078</td>\n",
       "      <td>159651000</td>\n",
       "    </tr>\n",
       "    <tr>\n",
       "      <th>198</th>\n",
       "      <td>199</td>\n",
       "      <td>TX</td>\n",
       "      <td>142173</td>\n",
       "      <td>117058</td>\n",
       "      <td>0.2146</td>\n",
       "      <td>570.4032</td>\n",
       "      <td>249250000</td>\n",
       "    </tr>\n",
       "    <tr>\n",
       "      <th>199</th>\n",
       "      <td>200</td>\n",
       "      <td>AZ</td>\n",
       "      <td>142049</td>\n",
       "      <td>117674</td>\n",
       "      <td>0.2071</td>\n",
       "      <td>507.5299</td>\n",
       "      <td>279883000</td>\n",
       "    </tr>\n",
       "  </tbody>\n",
       "</table>\n",
       "<p>200 rows × 7 columns</p>\n",
       "</div>"
      ],
      "text/plain": [
       "     rank usps  pop2020  pop2010  change     density       aland\n",
       "0       1   NY  8323340  8190360  0.0162  10698.6142   777983000\n",
       "1       2   CA  4015940  3795370  0.0581   3306.4162  1214590000\n",
       "2       3   IL  2694240  2697530 -0.0012   4575.1780   588882000\n",
       "3       4   TX  2340890  2098450  0.1155   1411.7991  1658090000\n",
       "4       5   AZ  1703080  1449300  0.1751   1270.2253  1340770000\n",
       "..    ...  ...      ...      ...     ...         ...         ...\n",
       "195   196   FL   143219   122299  0.1711   1916.5245    74728500\n",
       "196   197   CT   143010   144858 -0.0128   3437.1868    41606700\n",
       "197   198   KS   142841   126249  0.1314    894.7078   159651000\n",
       "198   199   TX   142173   117058  0.2146    570.4032   249250000\n",
       "199   200   AZ   142049   117674  0.2071    507.5299   279883000\n",
       "\n",
       "[200 rows x 7 columns]"
      ]
     },
     "execution_count": 2,
     "metadata": {},
     "output_type": "execute_result"
    }
   ],
   "source": [
    "# Import our dependencies\n",
    "import pandas as pd\n",
    "import sklearn as skl\n",
    "\n",
    "\n",
    "# Read in our ramen data\n",
    "lrg_cty_df = pd.read_csv(\"200_LRG_cty_population.csv\")\n",
    "# Read in our ramen data\n",
    "lrg_cty_df\n",
    "# # Print out the Country value counts\n",
    "# country_counts = ramen_df.Country.value_counts()\n",
    "# country_counts"
   ]
  },
  {
   "cell_type": "code",
   "execution_count": 3,
   "metadata": {},
   "outputs": [
    {
     "name": "stdout",
     "output_type": "stream",
     "text": [
      "<class 'pandas.core.frame.DataFrame'>\n",
      "RangeIndex: 200 entries, 0 to 199\n",
      "Data columns (total 7 columns):\n",
      " #   Column   Non-Null Count  Dtype  \n",
      "---  ------   --------------  -----  \n",
      " 0   rank     200 non-null    int64  \n",
      " 1   usps     200 non-null    object \n",
      " 2   pop2020  200 non-null    int64  \n",
      " 3   pop2010  200 non-null    int64  \n",
      " 4   change   200 non-null    float64\n",
      " 5   density  200 non-null    float64\n",
      " 6   aland    200 non-null    int64  \n",
      "dtypes: float64(2), int64(4), object(1)\n",
      "memory usage: 11.1+ KB\n"
     ]
    }
   ],
   "source": [
    "lrg_cty_df.info()"
   ]
  },
  {
   "cell_type": "code",
   "execution_count": 4,
   "metadata": {},
   "outputs": [
    {
     "data": {
      "text/html": [
       "<div>\n",
       "<style scoped>\n",
       "    .dataframe tbody tr th:only-of-type {\n",
       "        vertical-align: middle;\n",
       "    }\n",
       "\n",
       "    .dataframe tbody tr th {\n",
       "        vertical-align: top;\n",
       "    }\n",
       "\n",
       "    .dataframe thead th {\n",
       "        text-align: right;\n",
       "    }\n",
       "</style>\n",
       "<table border=\"1\" class=\"dataframe\">\n",
       "  <thead>\n",
       "    <tr style=\"text-align: right;\">\n",
       "      <th></th>\n",
       "      <th>rank</th>\n",
       "      <th>pop2020</th>\n",
       "      <th>pop2010</th>\n",
       "      <th>change</th>\n",
       "      <th>density</th>\n",
       "      <th>aland</th>\n",
       "    </tr>\n",
       "  </thead>\n",
       "  <tbody>\n",
       "    <tr>\n",
       "      <th>count</th>\n",
       "      <td>200.000000</td>\n",
       "      <td>2.000000e+02</td>\n",
       "      <td>2.000000e+02</td>\n",
       "      <td>200.000000</td>\n",
       "      <td>200.000000</td>\n",
       "      <td>2.000000e+02</td>\n",
       "    </tr>\n",
       "    <tr>\n",
       "      <th>mean</th>\n",
       "      <td>100.500000</td>\n",
       "      <td>4.167849e+05</td>\n",
       "      <td>3.834802e+05</td>\n",
       "      <td>0.100763</td>\n",
       "      <td>1725.839217</td>\n",
       "      <td>3.210183e+08</td>\n",
       "    </tr>\n",
       "    <tr>\n",
       "      <th>std</th>\n",
       "      <td>57.879185</td>\n",
       "      <td>7.109677e+05</td>\n",
       "      <td>6.864910e+05</td>\n",
       "      <td>0.113267</td>\n",
       "      <td>1385.980001</td>\n",
       "      <td>4.195531e+08</td>\n",
       "    </tr>\n",
       "    <tr>\n",
       "      <th>min</th>\n",
       "      <td>1.000000</td>\n",
       "      <td>1.420490e+05</td>\n",
       "      <td>1.084810e+05</td>\n",
       "      <td>-0.132900</td>\n",
       "      <td>64.614500</td>\n",
       "      <td>2.179010e+07</td>\n",
       "    </tr>\n",
       "    <tr>\n",
       "      <th>25%</th>\n",
       "      <td>50.750000</td>\n",
       "      <td>1.796832e+05</td>\n",
       "      <td>1.638582e+05</td>\n",
       "      <td>0.021500</td>\n",
       "      <td>898.179000</td>\n",
       "      <td>1.175988e+08</td>\n",
       "    </tr>\n",
       "    <tr>\n",
       "      <th>50%</th>\n",
       "      <td>100.500000</td>\n",
       "      <td>2.319290e+05</td>\n",
       "      <td>2.101525e+05</td>\n",
       "      <td>0.096750</td>\n",
       "      <td>1407.570400</td>\n",
       "      <td>2.009300e+08</td>\n",
       "    </tr>\n",
       "    <tr>\n",
       "      <th>75%</th>\n",
       "      <td>150.250000</td>\n",
       "      <td>3.901542e+05</td>\n",
       "      <td>3.700848e+05</td>\n",
       "      <td>0.143525</td>\n",
       "      <td>1966.141675</td>\n",
       "      <td>3.580465e+08</td>\n",
       "    </tr>\n",
       "    <tr>\n",
       "      <th>max</th>\n",
       "      <td>200.000000</td>\n",
       "      <td>8.323340e+06</td>\n",
       "      <td>8.190360e+06</td>\n",
       "      <td>0.819600</td>\n",
       "      <td>10698.614200</td>\n",
       "      <td>4.420590e+09</td>\n",
       "    </tr>\n",
       "  </tbody>\n",
       "</table>\n",
       "</div>"
      ],
      "text/plain": [
       "             rank       pop2020       pop2010      change       density  \\\n",
       "count  200.000000  2.000000e+02  2.000000e+02  200.000000    200.000000   \n",
       "mean   100.500000  4.167849e+05  3.834802e+05    0.100763   1725.839217   \n",
       "std     57.879185  7.109677e+05  6.864910e+05    0.113267   1385.980001   \n",
       "min      1.000000  1.420490e+05  1.084810e+05   -0.132900     64.614500   \n",
       "25%     50.750000  1.796832e+05  1.638582e+05    0.021500    898.179000   \n",
       "50%    100.500000  2.319290e+05  2.101525e+05    0.096750   1407.570400   \n",
       "75%    150.250000  3.901542e+05  3.700848e+05    0.143525   1966.141675   \n",
       "max    200.000000  8.323340e+06  8.190360e+06    0.819600  10698.614200   \n",
       "\n",
       "              aland  \n",
       "count  2.000000e+02  \n",
       "mean   3.210183e+08  \n",
       "std    4.195531e+08  \n",
       "min    2.179010e+07  \n",
       "25%    1.175988e+08  \n",
       "50%    2.009300e+08  \n",
       "75%    3.580465e+08  \n",
       "max    4.420590e+09  "
      ]
     },
     "execution_count": 4,
     "metadata": {},
     "output_type": "execute_result"
    }
   ],
   "source": [
    "lrg_cty_df.describe()"
   ]
  },
  {
   "cell_type": "markdown",
   "metadata": {},
   "source": [
    "##Questions we would like to answer are:\n",
    "###Given the data available, can we expect housing prices to increase or decrease in the coming years? \n",
    "- need to make predicition with some kind of regression \n",
    "###What is the current income distribution of housing prices in a given city?\n",
    "-- unclear about this \n",
    "###What are the top industries in a given city?\n",
    "-- need data on job titles \n",
    "###What are general population demographics of a given city?\n",
    "- have we gotten any of this yet? \n",
    "###What is the breakdown of renters vs. buyers in a city, and how has it changed over time? \n",
    "###How has income changed over time?\n",
    "###How have housing prices changed over time?"
   ]
  },
  {
   "cell_type": "code",
   "execution_count": 5,
   "metadata": {},
   "outputs": [
    {
     "name": "stdout",
     "output_type": "stream",
     "text": [
      "column rank has 0 null values\n",
      "column usps has 0 null values\n",
      "column pop2020 has 0 null values\n",
      "column pop2010 has 0 null values\n",
      "column change has 0 null values\n",
      "column density has 0 null values\n",
      "column aland has 0 null values\n"
     ]
    }
   ],
   "source": [
    "## finding how many nulls are in there to be able to drop those rows \n",
    "for column in lrg_cty_df.columns:\n",
    "    print(f\"column {column} has {lrg_cty_df[column].isnull().sum()} null values\")"
   ]
  },
  {
   "cell_type": "code",
   "execution_count": null,
   "metadata": {},
   "outputs": [],
   "source": [
    "# # to pull down csv when cleaned \n",
    "# output_file_path = \"<path to folder>/new_iris_data.csv\"\n",
    "# new_iris_df.to_csv(output_file_path, index=False)"
   ]
  },
  {
   "cell_type": "code",
   "execution_count": 6,
   "metadata": {},
   "outputs": [
    {
     "data": {
      "text/plain": [
       "Index(['rank', 'usps', 'pop2020', 'pop2010', 'change', 'density', 'aland'], dtype='object')"
      ]
     },
     "execution_count": 6,
     "metadata": {},
     "output_type": "execute_result"
    }
   ],
   "source": [
    "lrg_cty_df.columns"
   ]
  },
  {
   "cell_type": "code",
   "execution_count": 7,
   "metadata": {},
   "outputs": [
    {
     "data": {
      "text/plain": [
       "rank         int64\n",
       "usps        object\n",
       "pop2020      int64\n",
       "pop2010      int64\n",
       "change     float64\n",
       "density    float64\n",
       "aland        int64\n",
       "dtype: object"
      ]
     },
     "execution_count": 7,
     "metadata": {},
     "output_type": "execute_result"
    }
   ],
   "source": [
    "lrg_cty_df.dtypes"
   ]
  },
  {
   "cell_type": "code",
   "execution_count": 8,
   "metadata": {},
   "outputs": [
    {
     "data": {
      "text/html": [
       "<div>\n",
       "<style scoped>\n",
       "    .dataframe tbody tr th:only-of-type {\n",
       "        vertical-align: middle;\n",
       "    }\n",
       "\n",
       "    .dataframe tbody tr th {\n",
       "        vertical-align: top;\n",
       "    }\n",
       "\n",
       "    .dataframe thead th {\n",
       "        text-align: right;\n",
       "    }\n",
       "</style>\n",
       "<table border=\"1\" class=\"dataframe\">\n",
       "  <thead>\n",
       "    <tr style=\"text-align: right;\">\n",
       "      <th></th>\n",
       "      <th>rank</th>\n",
       "      <th>usps</th>\n",
       "      <th>pop2020</th>\n",
       "      <th>pop2010</th>\n",
       "      <th>change</th>\n",
       "      <th>density</th>\n",
       "      <th>aland</th>\n",
       "    </tr>\n",
       "  </thead>\n",
       "  <tbody>\n",
       "    <tr>\n",
       "      <th>0</th>\n",
       "      <td>1</td>\n",
       "      <td>NY</td>\n",
       "      <td>8323340</td>\n",
       "      <td>8190360</td>\n",
       "      <td>0.0162</td>\n",
       "      <td>10698.6142</td>\n",
       "      <td>777983000</td>\n",
       "    </tr>\n",
       "    <tr>\n",
       "      <th>1</th>\n",
       "      <td>2</td>\n",
       "      <td>CA</td>\n",
       "      <td>4015940</td>\n",
       "      <td>3795370</td>\n",
       "      <td>0.0581</td>\n",
       "      <td>3306.4162</td>\n",
       "      <td>1214590000</td>\n",
       "    </tr>\n",
       "    <tr>\n",
       "      <th>2</th>\n",
       "      <td>3</td>\n",
       "      <td>IL</td>\n",
       "      <td>2694240</td>\n",
       "      <td>2697530</td>\n",
       "      <td>-0.0012</td>\n",
       "      <td>4575.1780</td>\n",
       "      <td>588882000</td>\n",
       "    </tr>\n",
       "    <tr>\n",
       "      <th>3</th>\n",
       "      <td>4</td>\n",
       "      <td>TX</td>\n",
       "      <td>2340890</td>\n",
       "      <td>2098450</td>\n",
       "      <td>0.1155</td>\n",
       "      <td>1411.7991</td>\n",
       "      <td>1658090000</td>\n",
       "    </tr>\n",
       "    <tr>\n",
       "      <th>4</th>\n",
       "      <td>5</td>\n",
       "      <td>AZ</td>\n",
       "      <td>1703080</td>\n",
       "      <td>1449300</td>\n",
       "      <td>0.1751</td>\n",
       "      <td>1270.2253</td>\n",
       "      <td>1340770000</td>\n",
       "    </tr>\n",
       "  </tbody>\n",
       "</table>\n",
       "</div>"
      ],
      "text/plain": [
       "   rank usps  pop2020  pop2010  change     density       aland\n",
       "0     1   NY  8323340  8190360  0.0162  10698.6142   777983000\n",
       "1     2   CA  4015940  3795370  0.0581   3306.4162  1214590000\n",
       "2     3   IL  2694240  2697530 -0.0012   4575.1780   588882000\n",
       "3     4   TX  2340890  2098450  0.1155   1411.7991  1658090000\n",
       "4     5   AZ  1703080  1449300  0.1751   1270.2253  1340770000"
      ]
     },
     "execution_count": 8,
     "metadata": {},
     "output_type": "execute_result"
    }
   ],
   "source": [
    "lrg_cty_df.head()"
   ]
  },
  {
   "cell_type": "code",
   "execution_count": 16,
   "metadata": {},
   "outputs": [],
   "source": [
    "# df.rename(columns={'oldName1': 'newName1', 'oldName2': 'newName2'}, \n",
    "# inplace=True)\n",
    "\n",
    "lrg_cty_df.rename(columns={'Area':'Area(km^2)'},inplace=True)"
   ]
  },
  {
   "cell_type": "code",
   "execution_count": 17,
   "metadata": {},
   "outputs": [
    {
     "data": {
      "text/html": [
       "<div>\n",
       "<style scoped>\n",
       "    .dataframe tbody tr th:only-of-type {\n",
       "        vertical-align: middle;\n",
       "    }\n",
       "\n",
       "    .dataframe tbody tr th {\n",
       "        vertical-align: top;\n",
       "    }\n",
       "\n",
       "    .dataframe thead th {\n",
       "        text-align: right;\n",
       "    }\n",
       "</style>\n",
       "<table border=\"1\" class=\"dataframe\">\n",
       "  <thead>\n",
       "    <tr style=\"text-align: right;\">\n",
       "      <th></th>\n",
       "      <th>rank</th>\n",
       "      <th>usps</th>\n",
       "      <th>pop2020</th>\n",
       "      <th>pop2010</th>\n",
       "      <th>change</th>\n",
       "      <th>density</th>\n",
       "      <th>Area(km^2)</th>\n",
       "    </tr>\n",
       "  </thead>\n",
       "  <tbody>\n",
       "    <tr>\n",
       "      <th>0</th>\n",
       "      <td>1</td>\n",
       "      <td>NY</td>\n",
       "      <td>8323340</td>\n",
       "      <td>8190360</td>\n",
       "      <td>0.0162</td>\n",
       "      <td>10698.6142</td>\n",
       "      <td>777983000</td>\n",
       "    </tr>\n",
       "    <tr>\n",
       "      <th>1</th>\n",
       "      <td>2</td>\n",
       "      <td>CA</td>\n",
       "      <td>4015940</td>\n",
       "      <td>3795370</td>\n",
       "      <td>0.0581</td>\n",
       "      <td>3306.4162</td>\n",
       "      <td>1214590000</td>\n",
       "    </tr>\n",
       "    <tr>\n",
       "      <th>2</th>\n",
       "      <td>3</td>\n",
       "      <td>IL</td>\n",
       "      <td>2694240</td>\n",
       "      <td>2697530</td>\n",
       "      <td>-0.0012</td>\n",
       "      <td>4575.1780</td>\n",
       "      <td>588882000</td>\n",
       "    </tr>\n",
       "    <tr>\n",
       "      <th>3</th>\n",
       "      <td>4</td>\n",
       "      <td>TX</td>\n",
       "      <td>2340890</td>\n",
       "      <td>2098450</td>\n",
       "      <td>0.1155</td>\n",
       "      <td>1411.7991</td>\n",
       "      <td>1658090000</td>\n",
       "    </tr>\n",
       "    <tr>\n",
       "      <th>4</th>\n",
       "      <td>5</td>\n",
       "      <td>AZ</td>\n",
       "      <td>1703080</td>\n",
       "      <td>1449300</td>\n",
       "      <td>0.1751</td>\n",
       "      <td>1270.2253</td>\n",
       "      <td>1340770000</td>\n",
       "    </tr>\n",
       "  </tbody>\n",
       "</table>\n",
       "</div>"
      ],
      "text/plain": [
       "   rank usps  pop2020  pop2010  change     density  Area(km^2)\n",
       "0     1   NY  8323340  8190360  0.0162  10698.6142   777983000\n",
       "1     2   CA  4015940  3795370  0.0581   3306.4162  1214590000\n",
       "2     3   IL  2694240  2697530 -0.0012   4575.1780   588882000\n",
       "3     4   TX  2340890  2098450  0.1155   1411.7991  1658090000\n",
       "4     5   AZ  1703080  1449300  0.1751   1270.2253  1340770000"
      ]
     },
     "execution_count": 17,
     "metadata": {},
     "output_type": "execute_result"
    }
   ],
   "source": [
    "lrg_cty_df.head()"
   ]
  },
  {
   "cell_type": "code",
   "execution_count": null,
   "metadata": {},
   "outputs": [],
   "source": [
    "# charity_df = charity_df.set_index(\"EIN\")\n",
    "# charity_df.head()\n",
    "\n",
    "# #remove ein name from index to be used for all df needed to be split or recreated \n",
    "\n",
    "# charity_df.index.name = None\n",
    "# charity_df.head()\n",
    "\n",
    "lrg_cty_df = lrg_cty_df.set_index(\"rank\")"
   ]
  },
  {
   "cell_type": "code",
   "execution_count": 18,
   "metadata": {},
   "outputs": [
    {
     "data": {
      "text/plain": [
       "<matplotlib.axes._subplots.AxesSubplot at 0x7ffba7e82850>"
      ]
     },
     "execution_count": 18,
     "metadata": {},
     "output_type": "execute_result"
    },
    {
     "data": {
      "image/png": "[encoded data removed]",
      "text/plain": [
       "<Figure size 432x288 with 1 Axes>"
      ]
     },
     "metadata": {
      "needs_background": "light"
     },
     "output_type": "display_data"
    }
   ],
   "source": [
    "# counts_app_type.plot.density()\n",
    "lrg_cty_df[\"density\"].plot()"
   ]
  },
  {
   "cell_type": "code",
   "execution_count": 21,
   "metadata": {},
   "outputs": [
    {
     "data": {
      "text/plain": [
       "<matplotlib.axes._subplots.AxesSubplot at 0x7ffba423eb10>"
      ]
     },
     "execution_count": 21,
     "metadata": {},
     "output_type": "execute_result"
    },
    {
     "data": {
      "image/png": "[encoded data removed]",
      "text/plain": [
       "<Figure size 432x288 with 1 Axes>"
      ]
     },
     "metadata": {
      "needs_background": "light"
     },
     "output_type": "display_data"
    }
   ],
   "source": [
    "lrg_cty_df[\"density\"].plot.density()"
   ]
  },
  {
   "cell_type": "code",
   "execution_count": 19,
   "metadata": {},
   "outputs": [
    {
     "data": {
      "text/plain": [
       "<matplotlib.axes._subplots.AxesSubplot at 0x7ffba8959050>"
      ]
     },
     "execution_count": 19,
     "metadata": {},
     "output_type": "execute_result"
    },
    {
     "data": {
      "image/png": "[encoded data removed]",
      "text/plain": [
       "<Figure size 432x288 with 1 Axes>"
      ]
     },
     "metadata": {
      "needs_background": "light"
     },
     "output_type": "display_data"
    }
   ],
   "source": [
    "lrg_cty_df[\"change\"].plot()"
   ]
  },
  {
   "cell_type": "code",
   "execution_count": 20,
   "metadata": {},
   "outputs": [
    {
     "data": {
      "text/plain": [
       "<matplotlib.axes._subplots.AxesSubplot at 0x7ffba425af50>"
      ]
     },
     "execution_count": 20,
     "metadata": {},
     "output_type": "execute_result"
    },
    {
     "data": {
      "image/png": "[encoded data removed]",
      "text/plain": [
       "<Figure size 432x288 with 1 Axes>"
      ]
     },
     "metadata": {
      "needs_background": "light"
     },
     "output_type": "display_data"
    }
   ],
   "source": [
    "lrg_cty_df[\"change\"].plot.density()"
   ]
  },
  {
   "cell_type": "code",
   "execution_count": 22,
   "metadata": {},
   "outputs": [
    {
     "data": {
      "text/html": [
       "<div>\n",
       "<style scoped>\n",
       "    .dataframe tbody tr th:only-of-type {\n",
       "        vertical-align: middle;\n",
       "    }\n",
       "\n",
       "    .dataframe tbody tr th {\n",
       "        vertical-align: top;\n",
       "    }\n",
       "\n",
       "    .dataframe thead th {\n",
       "        text-align: right;\n",
       "    }\n",
       "</style>\n",
       "<table border=\"1\" class=\"dataframe\">\n",
       "  <thead>\n",
       "    <tr style=\"text-align: right;\">\n",
       "      <th></th>\n",
       "      <th>rank</th>\n",
       "      <th>usps</th>\n",
       "    </tr>\n",
       "  </thead>\n",
       "  <tbody>\n",
       "    <tr>\n",
       "      <th>0</th>\n",
       "      <td>1</td>\n",
       "      <td>NY</td>\n",
       "    </tr>\n",
       "    <tr>\n",
       "      <th>1</th>\n",
       "      <td>2</td>\n",
       "      <td>CA</td>\n",
       "    </tr>\n",
       "    <tr>\n",
       "      <th>2</th>\n",
       "      <td>3</td>\n",
       "      <td>IL</td>\n",
       "    </tr>\n",
       "    <tr>\n",
       "      <th>3</th>\n",
       "      <td>4</td>\n",
       "      <td>TX</td>\n",
       "    </tr>\n",
       "    <tr>\n",
       "      <th>4</th>\n",
       "      <td>5</td>\n",
       "      <td>AZ</td>\n",
       "    </tr>\n",
       "  </tbody>\n",
       "</table>\n",
       "</div>"
      ],
      "text/plain": [
       "   rank usps\n",
       "0     1   NY\n",
       "1     2   CA\n",
       "2     3   IL\n",
       "3     4   TX\n",
       "4     5   AZ"
      ]
     },
     "execution_count": 22,
     "metadata": {},
     "output_type": "execute_result"
    }
   ],
   "source": [
    "cty_names_df = pd.DataFrame(lrg_cty_df[['rank','usps']])\n",
    "cty_names_df.head()"
   ]
  },
  {
   "cell_type": "code",
   "execution_count": 23,
   "metadata": {},
   "outputs": [
    {
     "ename": "KeyError",
     "evalue": "('rank', 'usps')",
     "output_type": "error",
     "traceback": [
      "\u001b[0;31m---------------------------------------------------------------------------\u001b[0m",
      "\u001b[0;31mKeyError\u001b[0m                                  Traceback (most recent call last)",
      "\u001b[0;32m~/opt/anaconda3/lib/python3.7/site-packages/pandas/core/indexes/base.py\u001b[0m in \u001b[0;36mget_loc\u001b[0;34m(self, key, method, tolerance)\u001b[0m\n\u001b[1;32m   2890\u001b[0m             \u001b[0;32mtry\u001b[0m\u001b[0;34m:\u001b[0m\u001b[0;34m\u001b[0m\u001b[0;34m\u001b[0m\u001b[0m\n\u001b[0;32m-> 2891\u001b[0;31m                 \u001b[0;32mreturn\u001b[0m \u001b[0mself\u001b[0m\u001b[0;34m.\u001b[0m\u001b[0m_engine\u001b[0m\u001b[0;34m.\u001b[0m\u001b[0mget_loc\u001b[0m\u001b[0;34m(\u001b[0m\u001b[0mcasted_key\u001b[0m\u001b[0;34m)\u001b[0m\u001b[0;34m\u001b[0m\u001b[0;34m\u001b[0m\u001b[0m\n\u001b[0m\u001b[1;32m   2892\u001b[0m             \u001b[0;32mexcept\u001b[0m \u001b[0mKeyError\u001b[0m \u001b[0;32mas\u001b[0m \u001b[0merr\u001b[0m\u001b[0;34m:\u001b[0m\u001b[0;34m\u001b[0m\u001b[0;34m\u001b[0m\u001b[0m\n",
      "\u001b[0;32mpandas/_libs/index.pyx\u001b[0m in \u001b[0;36mpandas._libs.index.IndexEngine.get_loc\u001b[0;34m()\u001b[0m\n",
      "\u001b[0;32mpandas/_libs/index.pyx\u001b[0m in \u001b[0;36mpandas._libs.index.IndexEngine.get_loc\u001b[0;34m()\u001b[0m\n",
      "\u001b[0;32mpandas/_libs/hashtable_class_helper.pxi\u001b[0m in \u001b[0;36mpandas._libs.hashtable.PyObjectHashTable.get_item\u001b[0;34m()\u001b[0m\n",
      "\u001b[0;32mpandas/_libs/hashtable_class_helper.pxi\u001b[0m in \u001b[0;36mpandas._libs.hashtable.PyObjectHashTable.get_item\u001b[0;34m()\u001b[0m\n",
      "\u001b[0;31mKeyError\u001b[0m: ('rank', 'usps')",
      "\nThe above exception was the direct cause of the following exception:\n",
      "\u001b[0;31mKeyError\u001b[0m                                  Traceback (most recent call last)",
      "\u001b[0;32m<ipython-input-23-a70cbc590d4d>\u001b[0m in \u001b[0;36m<module>\u001b[0;34m\u001b[0m\n\u001b[0;32m----> 1\u001b[0;31m \u001b[0mlrg_cty_df\u001b[0m\u001b[0;34m.\u001b[0m\u001b[0mdrop\u001b[0m\u001b[0;34m(\u001b[0m\u001b[0mlrg_cty_df\u001b[0m\u001b[0;34m[\u001b[0m\u001b[0;34m'rank'\u001b[0m\u001b[0;34m,\u001b[0m\u001b[0;34m'usps'\u001b[0m\u001b[0;34m]\u001b[0m\u001b[0;34m)\u001b[0m\u001b[0;34m\u001b[0m\u001b[0;34m\u001b[0m\u001b[0m\n\u001b[0m\u001b[1;32m      2\u001b[0m \u001b[0mlrg_cty_df\u001b[0m\u001b[0;34m.\u001b[0m\u001b[0mhead\u001b[0m\u001b[0;34m(\u001b[0m\u001b[0;34m)\u001b[0m\u001b[0;34m\u001b[0m\u001b[0;34m\u001b[0m\u001b[0m\n",
      "\u001b[0;32m~/opt/anaconda3/lib/python3.7/site-packages/pandas/core/frame.py\u001b[0m in \u001b[0;36m__getitem__\u001b[0;34m(self, key)\u001b[0m\n\u001b[1;32m   2900\u001b[0m             \u001b[0;32mif\u001b[0m \u001b[0mself\u001b[0m\u001b[0;34m.\u001b[0m\u001b[0mcolumns\u001b[0m\u001b[0;34m.\u001b[0m\u001b[0mnlevels\u001b[0m \u001b[0;34m>\u001b[0m \u001b[0;36m1\u001b[0m\u001b[0;34m:\u001b[0m\u001b[0;34m\u001b[0m\u001b[0;34m\u001b[0m\u001b[0m\n\u001b[1;32m   2901\u001b[0m                 \u001b[0;32mreturn\u001b[0m \u001b[0mself\u001b[0m\u001b[0;34m.\u001b[0m\u001b[0m_getitem_multilevel\u001b[0m\u001b[0;34m(\u001b[0m\u001b[0mkey\u001b[0m\u001b[0;34m)\u001b[0m\u001b[0;34m\u001b[0m\u001b[0;34m\u001b[0m\u001b[0m\n\u001b[0;32m-> 2902\u001b[0;31m             \u001b[0mindexer\u001b[0m \u001b[0;34m=\u001b[0m \u001b[0mself\u001b[0m\u001b[0;34m.\u001b[0m\u001b[0mcolumns\u001b[0m\u001b[0;34m.\u001b[0m\u001b[0mget_loc\u001b[0m\u001b[0;34m(\u001b[0m\u001b[0mkey\u001b[0m\u001b[0;34m)\u001b[0m\u001b[0;34m\u001b[0m\u001b[0;34m\u001b[0m\u001b[0m\n\u001b[0m\u001b[1;32m   2903\u001b[0m             \u001b[0;32mif\u001b[0m \u001b[0mis_integer\u001b[0m\u001b[0;34m(\u001b[0m\u001b[0mindexer\u001b[0m\u001b[0;34m)\u001b[0m\u001b[0;34m:\u001b[0m\u001b[0;34m\u001b[0m\u001b[0;34m\u001b[0m\u001b[0m\n\u001b[1;32m   2904\u001b[0m                 \u001b[0mindexer\u001b[0m \u001b[0;34m=\u001b[0m \u001b[0;34m[\u001b[0m\u001b[0mindexer\u001b[0m\u001b[0;34m]\u001b[0m\u001b[0;34m\u001b[0m\u001b[0;34m\u001b[0m\u001b[0m\n",
      "\u001b[0;32m~/opt/anaconda3/lib/python3.7/site-packages/pandas/core/indexes/base.py\u001b[0m in \u001b[0;36mget_loc\u001b[0;34m(self, key, method, tolerance)\u001b[0m\n\u001b[1;32m   2891\u001b[0m                 \u001b[0;32mreturn\u001b[0m \u001b[0mself\u001b[0m\u001b[0;34m.\u001b[0m\u001b[0m_engine\u001b[0m\u001b[0;34m.\u001b[0m\u001b[0mget_loc\u001b[0m\u001b[0;34m(\u001b[0m\u001b[0mcasted_key\u001b[0m\u001b[0;34m)\u001b[0m\u001b[0;34m\u001b[0m\u001b[0;34m\u001b[0m\u001b[0m\n\u001b[1;32m   2892\u001b[0m             \u001b[0;32mexcept\u001b[0m \u001b[0mKeyError\u001b[0m \u001b[0;32mas\u001b[0m \u001b[0merr\u001b[0m\u001b[0;34m:\u001b[0m\u001b[0;34m\u001b[0m\u001b[0;34m\u001b[0m\u001b[0m\n\u001b[0;32m-> 2893\u001b[0;31m                 \u001b[0;32mraise\u001b[0m \u001b[0mKeyError\u001b[0m\u001b[0;34m(\u001b[0m\u001b[0mkey\u001b[0m\u001b[0;34m)\u001b[0m \u001b[0;32mfrom\u001b[0m \u001b[0merr\u001b[0m\u001b[0;34m\u001b[0m\u001b[0;34m\u001b[0m\u001b[0m\n\u001b[0m\u001b[1;32m   2894\u001b[0m \u001b[0;34m\u001b[0m\u001b[0m\n\u001b[1;32m   2895\u001b[0m         \u001b[0;32mif\u001b[0m \u001b[0mtolerance\u001b[0m \u001b[0;32mis\u001b[0m \u001b[0;32mnot\u001b[0m \u001b[0;32mNone\u001b[0m\u001b[0;34m:\u001b[0m\u001b[0;34m\u001b[0m\u001b[0;34m\u001b[0m\u001b[0m\n",
      "\u001b[0;31mKeyError\u001b[0m: ('rank', 'usps')"
     ]
    }
   ],
   "source": [
    "lrg_cty_df.drop(lrg_cty_df['rank','usps'])\n",
    "lrg_cty_df.head()"
   ]
  }
 ],
 "metadata": {
  "kernelspec": {
   "display_name": "PythonData",
   "language": "python",
   "name": "pythondata"
  },
  "language_info": {
   "codemirror_mode": {
    "name": "ipython",
    "version": 3
   },
   "file_extension": ".py",
   "mimetype": "text/x-python",
   "name": "python",
   "nbconvert_exporter": "python",
   "pygments_lexer": "ipython3",
   "version": "3.7.6"
  }
 },
 "nbformat": 4,
 "nbformat_minor": 4
}
